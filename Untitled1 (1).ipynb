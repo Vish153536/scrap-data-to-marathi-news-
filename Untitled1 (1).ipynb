{
  "nbformat": 4,
  "nbformat_minor": 0,
  "metadata": {
    "colab": {
      "name": "Untitled1.ipynb",
      "provenance": []
    },
    "kernelspec": {
      "name": "python3",
      "display_name": "Python 3"
    },
    "language_info": {
      "name": "python"
    }
  },
  "cells": [
    {
      "cell_type": "code",
      "execution_count": 1,
      "metadata": {
        "id": "6rIXtGeS6bFY"
      },
      "outputs": [],
      "source": [
        "import requests\n",
        "import numpy as np\n",
        "import pandas as pd\n",
        "from bs4 import BeautifulSoup\n",
        "import re"
      ]
    },
    {
      "cell_type": "code",
      "source": [
        "url='http://www.worldnewspaperlink.com/india/marathi/'\n",
        "res=requests.get(url)\n",
        "\n",
        "ursoup=BeautifulSoup(res.text,'html.parser')"
      ],
      "metadata": {
        "id": "uGxlCAYw7f5Z"
      },
      "execution_count": 2,
      "outputs": []
    },
    {
      "cell_type": "code",
      "source": [
        "marathi_news_link=[]"
      ],
      "metadata": {
        "id": "2jXclO1P7f7T"
      },
      "execution_count": 3,
      "outputs": []
    },
    {
      "cell_type": "code",
      "source": [
        "for link in ursoup.find_all('a',attrs={'href':re.compile(\"http://\")}):\n",
        "  marathi_news_link.append(link.get('href'))"
      ],
      "metadata": {
        "id": "wPikEWGO7f-1"
      },
      "execution_count": 4,
      "outputs": []
    },
    {
      "cell_type": "code",
      "source": [
        ""
      ],
      "metadata": {
        "id": "GGrFJ7EJ4Gil"
      },
      "execution_count": 4,
      "outputs": []
    },
    {
      "cell_type": "code",
      "source": [
        "marathi_news_link\n"
      ],
      "metadata": {
        "colab": {
          "base_uri": "https://localhost:8080/"
        },
        "id": "jujMIHQH4Glp",
        "outputId": "d59dc382-5159-45dc-9954-5a4a6c65589c"
      },
      "execution_count": 5,
      "outputs": [
        {
          "output_type": "execute_result",
          "data": {
            "text/plain": [
              "['http://www.lokmat.com/',\n",
              " 'http://epaper.lokmat.com/',\n",
              " 'http://www.maharashtratimes.com/',\n",
              " 'http://www.maharashtratimes.com/',\n",
              " 'http://www.loksatta.com/',\n",
              " 'http://www.loksatta.com/',\n",
              " 'http://divyamarathi.bhaskar.com/',\n",
              " 'http://divyamarathi.bhaskar.com/',\n",
              " 'http://www.esakal.com/',\n",
              " 'http://www.esakal.com/',\n",
              " 'http://www.pudhari.com/',\n",
              " 'http://www.pudhari.com/',\n",
              " 'http://www.dainikaikya.com/',\n",
              " 'http://www.dainikaikya.com/',\n",
              " 'http://navshakti.co.in/',\n",
              " 'http://navshakti.co.in/',\n",
              " 'http://www.sakaaltimes.com/',\n",
              " 'http://www.sakaaltimes.com/',\n",
              " 'http://www.saamana.com/',\n",
              " 'http://www.saamana.com/',\n",
              " 'http://www.marathwadaneta.com/',\n",
              " 'http://www.marathwadaneta.com/',\n",
              " 'http://www.dainikekmat.com/',\n",
              " 'http://www.dainikekmat.com/',\n",
              " 'http://www.deshonnati.com/',\n",
              " 'http://www.deshonnati.com/',\n",
              " 'http://epunyanagari.com/',\n",
              " 'http://epunyanagari.com/',\n",
              " 'http://www.tarunbharat.com/',\n",
              " 'http://www.tarunbharat.com/',\n",
              " 'http://www.beedreporter.com/',\n",
              " 'http://www.beedreporter.com/',\n",
              " 'http://www.lokprashna.com/',\n",
              " 'http://www.lokprashna.com/',\n",
              " 'http://elokasha.com/',\n",
              " 'http://elokasha.com/',\n",
              " 'http://prahaar.in/',\n",
              " 'http://prahaar.in/',\n",
              " 'http://esanchar.co.in/',\n",
              " 'http://esanchar.co.in/',\n",
              " 'http://parshvabhoomi.com/',\n",
              " 'http://parshvabhoomi.com/',\n",
              " 'http://www.dailykesari.com/',\n",
              " 'http://www.dailykesari.com/']"
            ]
          },
          "metadata": {},
          "execution_count": 5
        }
      ]
    },
    {
      "cell_type": "code",
      "source": [
        "marathi_newspaper_link=pd.DataFrame(marathi_news_link)\n",
        "marathi_newspaper_link.to_excel('marathi_newspaper_link.xlsx',sheet_name='sh1',index=False)"
      ],
      "metadata": {
        "id": "fBkceyMv57uK"
      },
      "execution_count": 6,
      "outputs": []
    },
    {
      "cell_type": "code",
      "source": [
        "#data=pd.read_csv('/content/marathi_newspaper_link.csv')"
      ],
      "metadata": {
        "id": "BT5KgFX757z2"
      },
      "execution_count": 7,
      "outputs": []
    },
    {
      "cell_type": "code",
      "source": [
        "#data.to_csv('marathi_newspaper_url.csv',index=True)"
      ],
      "metadata": {
        "id": "ADlwio-p571u"
      },
      "execution_count": 8,
      "outputs": []
    },
    {
      "cell_type": "code",
      "source": [
        ""
      ],
      "metadata": {
        "id": "us10ca2A5725"
      },
      "execution_count": 8,
      "outputs": []
    },
    {
      "cell_type": "code",
      "source": [
        ""
      ],
      "metadata": {
        "id": "hlcixjTV_yc1"
      },
      "execution_count": 8,
      "outputs": []
    },
    {
      "cell_type": "code",
      "source": [
        ""
      ],
      "metadata": {
        "id": "5fffbNP1_yfw"
      },
      "execution_count": 8,
      "outputs": []
    },
    {
      "cell_type": "code",
      "source": [
        ""
      ],
      "metadata": {
        "id": "wx2Figiw_yiB"
      },
      "execution_count": 8,
      "outputs": []
    },
    {
      "cell_type": "code",
      "source": [
        "maharashtra_time='http://www.maharashtratimes.com/'\n",
        "res=requests.get(maharashtra_time)\n",
        "\n",
        "\n",
        "ursoup=BeautifulSoup(res.text,'html.parser')\n",
        "\n"
      ],
      "metadata": {
        "id": "z6PDWFeQ_ykx"
      },
      "execution_count": 9,
      "outputs": []
    },
    {
      "cell_type": "code",
      "source": [
        "news10=[]\n",
        "\n",
        "for h in ursoup.findAll('span',class_='text_ellipsis'):\n",
        "  news10.append(h.text)\n",
        "\n",
        "\n",
        "  "
      ],
      "metadata": {
        "id": "YiN2JVoDHbza"
      },
      "execution_count": 10,
      "outputs": []
    },
    {
      "cell_type": "code",
      "source": [
        "news10"
      ],
      "metadata": {
        "colab": {
          "base_uri": "https://localhost:8080/"
        },
        "id": "twn8ZVfyHb22",
        "outputId": "cbdcf3f6-343e-4b88-f461-880529dccb04"
      },
      "execution_count": 11,
      "outputs": [
        {
          "output_type": "execute_result",
          "data": {
            "text/plain": [
              "[\" १४ एप्रिल हा 'राष्ट्रीय शीख दिन' म्हणून साजरा केला जावा, अमेरिकेत प्रस्ताव सादर \",\n",
              " ' युक्रेन युद्धात आपल्याच लष्कराकडून पुतीन यांची दिशाभूल, अमेरिकेचा दावा ',\n",
              " ' VIDEO: दुबईत रणवीर सिंहसोबत केंद्रीय मंत्री अनुराग ठाकूर यांनीही धरला ठेका ',\n",
              " \" 'विकिलीक्स' संस्थापक ज्युलियन असांजे तुरुंगातच बांधणार लग्नगाठ \",\n",
              " ' निष्काळजीपणा नको! अमेरिकेत एका महिन्यात करोनानं २ लाख ७० हजार मुलांना गाठलं ',\n",
              " \" फेसबुक आणि इन्स्टाग्रामला 'दहशतवादी संघटना' म्हणत रशियानं घातली बंदी \",\n",
              " ' रशियाबद्दल भारताची भूमिका अस्थिर; अमेरिकेचे अध्यक्ष जो बायडेन यांची टिप्पणी ',\n",
              " \" नशिबाचा खेळ! एकेकाळच्या 'अर्थमंत्र्यां'वर उदरनिर्वाहासाठी टॅक्सी चालवण्याची वेळ \",\n",
              " ' युक्रेनची एकाकी झुंज सुरूच; चर्चेसाठी अमेरिका राष्ट्राध्यक्ष पोलंडला देणार भेट ',\n",
              " ' Adv: सर्वाधिक रेटींग असलेले स्मार्ट LED टीव्ही मिळवा केवळ १३,४९९ रुपयांपासून ',\n",
              " ' रशिया-युक्रेन युद्धात अमेरिकन पत्रकारानं गमावला जीव, युद्धभूमीवर काय घडलं नेमकं... ',\n",
              " ' अमेरिकेचे माजी राष्ट्राध्यक्ष बराक ओबामा करोना संक्रमित ',\n",
              " ' रशियाविरुद्ध झुंजणाऱ्या युक्रेनला अमेरिकेकडून १३.६ अब्ज डॉलरची मदत ',\n",
              " \" Ukraine Crisis: खासगी कंपन्यांकडून रशियाची कोंडी; ३०० हून अधिक 'ब्रॅन्डस'नं घेतली ठाम भूमिका \",\n",
              " ' रशियाच्या धमकीनंतर पोलंडची माघार, यु्क्रेनला हत्यारं देण्यास नकार ',\n",
              " ' झापुरीझझिया अणुऊर्जा प्रकल्पावर रशियाचा गोळीबार, अणुस्फोटाच्या भीतीनं युरोपचा थरकाप ',\n",
              " \" 'पुतीन यांची हत्या हीच जगाची महान सेवा ठरेल' \",\n",
              " ' युक्रेन संकटावर भारतानं स्पष्ट भूमिका घ्यावी; अमेरिकेचा भारतावर दबावाचा प्रयत्न ',\n",
              " ' \\u200bयुक्रेनवर रशियाच्या हल्ल्याची योजना चीनला अगोदरपासूनच ठावूक होती, अमेरिकन वृत्तपत्राचा दावा ',\n",
              " \" 'वीटो'च्या ताकदीवर UN समोर रशियाची शिरजोरी, 'नाटो' तोंडावर; जाणून घ्या 'वीटो'ची ताकद \",\n",
              " ' संयुक्त राष्ट्र सुरक्षा परिषदेत भारतानं रशियाविरुद्ध मतदान टाळलं ',\n",
              " ' युक्रेनवरील हल्ल्याला चीनचा उघड पाठिंबा, रशियावरील निर्बंध हटवले ',\n",
              " ' \\u200bयुक्रेन संकटात भारत महत्त्वाच्या भूमिकेत; पुतीन यांच्यानंतर बायडेनही मोदींशी संवाद साधणार ',\n",
              " 'Live नाझी जर्मनीला हरवलं, पुतीनलाही पछाडणार : युक्रेन परराष्ट्रमंत्री ',\n",
              " \" रशिया-युक्रेन तणावात तेल ओतणाऱ्या अमेरिकेला झटका, 'व्हाईट हाऊस'बाहेर आंदोलक गोळा \",\n",
              " ' Russia Ukraine Conflict: बंडखोरांना दुसऱ्या शक्तीशाली देशाकडून मान्यता किती धोकादायक? ',\n",
              " \" भारतातले पाच 'कुप्रसिद्ध बाजार'... अमेरिकेनं यादी केली जाहीर \",\n",
              " ' अमेरिकेची खंत, अफगाणिस्तान प्रकरणात पाकचं सहकार्य मिळालं असतं तर... ',\n",
              " ' PHOTOS: ९५०० किलो वजन, ६.५ मीटर उंचीच्या अशोक स्तंभाचं अनावरण, पाहा काय आहे खास ',\n",
              " ' Amarnath Yatra 2022: दुर्घटनेनंतर अमरनाथ यात्रा पुन्हा सुरू, बेपत्ता लोक अजून सापडलेच नाहीत ',\n",
              " \" PHOTOS: 'एका लग्नाच्या अनेक गोष्टी'; का होतेय प्रशांत दामलेंच्या त्या खास पोस्टची चर्चा? \",\n",
              " ' नाशिकमध्ये गोदावरी नदीच्या पातळीत वाढ; मारुतीच्या कमरेपर्यंत आलं पाणी ',\n",
              " ' Sri Lanka Crisis: श्रीलंकेत आंदोलकांचे सरकार; राष्ट्रपतींच्या शाही घरावर कब्जा, जगाने कधीही न पाहिलेले दृश्य ',\n",
              " ' शिंदे-फडणवीस कॅबिनेटमध्ये कोणत्या महिला आमदारांची वर्णी? 6 भाजप नेत्या चर्चेत ',\n",
              " ' Lisa Haydon: तीन मुलांची फिट आई, लीसा हेडनच्या बिकिनी Photo ची तुफान चर्चा ',\n",
              " \" राणी, परी, स्वप्नसुंदरी अन् बरंच काही; प्राजक्ताचा 'वसंतसेना' लूक पाहून चाहते घायाळ \",\n",
              " ' राष्ट्रपती निवासस्थानाच्या स्विमिंग पूलमध्ये उड्या, तर रस्त्यावर आगडोंब; श्रीलंकेत जनतेचा संताप अनावर ',\n",
              " ' हेलिकॉप्टर दुर्घटना का होतात, भीती, अपुरे प्रशिक्षण, की... ',\n",
              " ' तुमच्या आमदारांपेक्षा तुम्ही कसे जलदगतीनं श्रीमंत होऊ श... ',\n",
              " \" करदात्यांनो लक्ष द्या! आता 'ITR' भरताना द्यावी लागेल ही... \",\n",
              " ' भाजपने एका दगडात अनेक पक्षी मारले; शिंदेंकडे मुख्यमंत्र... ',\n",
              " \" 'धर्मवीर'ला मिळाला पहिलावहिला पुरस्कार, प्रसाद ओकने मुख... \",\n",
              " ' एकनाथ शिंदेंकडे आहेत फक्त चार पर्याय; पाहा महाराष्ट्राच... ',\n",
              " \" कर बचतीचा कानमंत्र; 'या' गुंतवणुकीच्या पर्यायाद्वारे वा... \",\n",
              " ' बहुमत चाचणी म्हणजे काय? नेमकी होती कशी? राज्यातील सर्वा... ',\n",
              " ' नवीन कामगार कायदा; कामाची वेळ, पगार आणि पीएफमध्ये होईल ... ',\n",
              " ' देणगी सत्पात्री जाण्यासाठी, राष्ट्रीय सीएसआर एक्सचेंज प... ']"
            ]
          },
          "metadata": {},
          "execution_count": 11
        }
      ]
    },
    {
      "cell_type": "code",
      "source": [
        "news11=[]\n",
        "url3='http://www.loksatta.com/'\n",
        "res=requests.get(url3)\n",
        "ursoup=BeautifulSoup(res.text,'html.parser')\n",
        "for h in ursoup.findAll('h3',class_='entry-title'):\n",
        "  news11.append(h.text)"
      ],
      "metadata": {
        "id": "VCOhP__ZHb5G"
      },
      "execution_count": 12,
      "outputs": []
    },
    {
      "cell_type": "code",
      "source": [
        "news11"
      ],
      "metadata": {
        "colab": {
          "base_uri": "https://localhost:8080/"
        },
        "id": "aDwPWsxvMLm6",
        "outputId": "fcb9d202-43e5-469c-adc4-509bd2fdabbc"
      },
      "execution_count": 13,
      "outputs": [
        {
          "output_type": "execute_result",
          "data": {
            "text/plain": [
              "['Shivsena vs Shinde : धनुष्यबाण वाचवण्यासाठी उद्धव ठाकरेंची निवडणूक आयोगाकडे धाव; केली ही महत्वाची मागणी ',\n",
              " 'Maharashtra Political Crisis Live : मुख्यमंत्री एकनाथ शिंदे गडचिरोली दौऱ्यासाठी रवाना, अतिवृष्टी आणि पुरग्रस्त भागाची पाहणी करणार ',\n",
              " '“आत्ता सत्ता बदललीये, गाठ माझ्याशी आहे,” निलेश राणेंनी अधिकाऱ्याला सुनावलं; म्हणाले “आज टेबल…” ',\n",
              " '…म्हणून तेव्हा महाविकास आघाडी सरकारच्या मुख्यमंत्रीपदी उद्धव ठाकरेंचं नाव निश्चित केलं; शरद पवारांचा खुलासा ',\n",
              " '“राष्ट्रपती पदाच्या निवडणुकीत यश मिळालं असतं तरी…”; शरद पवारांनी सांगितलं उमेदवारी नाकारण्याचं खरं कारण ',\n",
              " 'प्राण गेले तरी बेहत्तर.., पण अमरावती भाजपाची प्रयोगशाळा होऊ देणार नाही – यशोमती ठाकूर ',\n",
              " '“‘मी’पणा विसरुन ‘आम्ही’ अशी व्यापक…”; राहुल गांधींनी मराठीतून लिहिलेली आषाढीची पोस्ट अनेकांनी नितेश राणेंना पाठवली, कारण… ',\n",
              " 'या आजीचा नादच खुळा! वयाच्या ९४व्या वर्षी जागतिक स्पर्धेत मिळवले सुवर्णपदक ',\n",
              " 'शिवसेनेचे खासदारही बंडखोरीच्या मार्गावर? उद्धव ठाकरेंनी बोलवलेल्या बैठकीत केवळ १०-१२ खासदारांची उपस्थिती ',\n",
              " 'PHOTOS : गॅस, वीज दरवाढीवरून पुण्यात राष्ट्रवादी काँग्रेसचे मोदी सरकार, शिंदे सरकार विरोधात आंदोलन ',\n",
              " '“सैन्यात असंतुष्ट मुलं गेली तर…”; अग्निपथवरून मेघालयच्या राज्यपालांचे मोदी सरकारवर टीकास्र ',\n",
              " '‘मी पुन्हा येईन’चा टीझर पाहून नेटकऱ्यांना आली, सध्याच्या राजकीय घडामोडींची आठवण ',\n",
              " 'एमआयटी वर्ल्ड पीस युनिव्हर्सिटीने एमबीए प्रोग्रामसह पाच-वर्षीय एकात्मिक बी.टेक लाँच केले; उद्योग-संबंधित, कौशल्ये आणि शिक्षणाचा संपूर्ण संच ऑफर करत आहे ',\n",
              " 'विश्लेषण : भाजपा नेत्या उमा भारतींनी एकाच वेळी ४१ ट्विट का केले? ',\n",
              " 'ठाणे : कोपरी प्रभाग समितीच्या इमारतीचा बाहेरील सज्जा पडला ',\n",
              " 'घरात अडकलेल्या दहा महिन्यांच्या मुलाची सुटका ',\n",
              " 'आता इंटरनेटशिवायही करता येणार UPI Transfer! फक्त फॉलो करा ‘या’ सोप्या स्टेप्स ',\n",
              " 'गुजरात: ओबीसी आरक्षणाचा मुद्दा गुजरात सरकारसाठी त्रासादायक ठरण्याची शक्यता ',\n",
              " 'ठाण्यातील शिवसेना शाखांवर शिंदे गटाचा डोळा? ',\n",
              " 'डोंबिवली, कल्याणमध्ये रिक्षा चोरीच्या वाढत्या घटनांमुळे चालक हैराण ; भंगाराची दुकाने वाढल्यापासून चोऱ्या वाढल्या ',\n",
              " 'आता इन्व्हर्टरशिवाय ‘हे’ LED Bulbs तासनतास चालतील! किंमत आहे १०० रुपयांनीही कमी ',\n",
              " 'Photos : ‘ठिपक्यांची रांगोळी’मधील अप्पू खऱ्या आयुष्यात दिसते इतकी हॉट, पाहा काही खास फोटो ',\n",
              " 'Photo : इंग्रजांच्या भूमीवर भारताचा ‘सूर्य’ तळपला; शतक झळकावून केले अनेक विक्रम ',\n",
              " 'Photos: पांढऱ्या साडीत मलायका अरोराचं हॉट फोटोशूट ',\n",
              " 'Photos : आरेतील मेट्रो काशरेडला विरोध करण्यासाठी आदित्य ठाकरे उतरले रस्त्यावर; म्हणाले, “१० हजार कोटी…” ',\n",
              " 'VIDEO : ट्रान्सपरंट साडी, विचित्र लूकमुळे मलायका अरोरा ट्रोल, नेटकऱ्यांनी दिला कमी मेकअप करण्याचा सल्ला ',\n",
              " '“ती मुलगी माझ्या प्रेमात होती आणि मलाही…” तापसीने सांगितला गोव्यात घडलेला किस्सा ',\n",
              " 'आई-बाबांचं भांडण आणि विठ्ठलाचं पहिल्यांदा घेतलेलं दर्शन; कुशल बद्रिकेने शेअर केला खास व्हिडीओ ',\n",
              " '‘पिल्लू निघालं वैमानिक व्हायला’, शरद पोंक्षेंची लेकीसाठी भावनिक पोस्ट ',\n",
              " 'VIDEO : मराठी ‘बिग बॉस’ फेम शर्मिष्ठा राऊतने नवऱ्यासाठी खरेदी केली महागडी कार, म्हणाली, “खर्चाचं गणित जुळलं अन्…” ',\n",
              " 'रणवीर सिंग होणार शाहरुख खानचा शेजारी, खरेदी केलं कोट्यवधीचं आलिशान घर ',\n",
              " 'विश्लेषण: कधी बलात्काराचे आदेश तर कधी जिवंत जाळण्याची शिक्षा; आसाममधील घटनेनंतर चर्चेत आलेलं ‘कंगारू न्यायालय’ म्हणजे काय? ',\n",
              " 'फडणवीसांकडे तक्रार जाताच किरीट सोमय्यांचा बदलला सूर? उद्धव ठाकरेंबाबत विचारलेल्या प्रश्नावर दिलं भलतंच उत्तर ',\n",
              " 'मनसेला मंत्रिपद दिले जात असेल तर आमचा त्याला विरोध – रामदास आठवले ',\n",
              " 'अनिल देशमुखांना धक्का; भ्रष्टाचार प्रकरणी सीबीआय न्यायलयाने जामीन अर्ज फेटाळला ',\n",
              " 'राष्ट्रवादीची मोठी घोषणा! स्थानिक स्वराज्य संस्थांच्या निवडणुकीत २७ टक्के उमेदवार फत्त OBC समाजाचे ',\n",
              " '‘उद्धव ठाकरेंकडे या’ म्हणत रडणारे संजय बांगर आता म्हणतात, “दृष्टीकोन बदला”; १२ खासदार संपर्कात असल्याचा मोठा दावा ',\n",
              " '“घरावरुन काँग्रेसचे झेंडे काढा, यांच्या सर्व सुविधा बंद करा,” भाजपा नेत्याचा व्हिडीओ व्हायरल ',\n",
              " '“चीनबाबत केंद्र सरकारचे ‘डीडीएलजे’ धोरण”; काँग्रेसचे पंतप्रधान मोदींवर टीकास्त्र ',\n",
              " 'बँका पैसे परत करण्यास असमर्थ; चीनमध्ये आंदोलकांवरच सरकारची कारवाई, ठेवीदारांना फरफटत नेलं ',\n",
              " 'संसदेच्या नवीन इमारतीवरील अशोक स्तंभाचे पंतप्रधान मोदींच्या हस्ते अनावरण; जाणून घ्या कसा आहे हा अशोक स्तंभ? ',\n",
              " 'INS Vikrant ची शेवटची चाचणी यशस्वी, महिनाअखेरीस नौदलाकडे सूपुर्त केली जाणार, १५ ऑगस्टला नौदलाच्या सेवेत दाखल होणार ',\n",
              " 'Guru Purnima 2022 : गुरु पौर्णिमेला बनत आहेत ४ राजयोग; या दिवशी ‘हे’ उपाय केल्यास मिळेल भाग्याची साथ ',\n",
              " 'आजचं राशीभविष्य, सोमवार ११ जुलै २०२२ ',\n",
              " 'शनिदेव पुन्हा मकर राशीत प्रवेश करणार; मिथुन, तूळ आणि या राशींना प्रचंड त्रास होऊ शकतो! ',\n",
              " 'आता आयुष्याची अजून किती वर्षे उरली आहेत? अशा प्रकारे जाणून घ्या ',\n",
              " 'Numerology: ‘या’ तारखांना जन्मलेल्या लोकांसाठी येणारा आठवडा वरदानाचा ठरेल; जाणून घ्या तुमचाही यात समावेश आहे की नाही ',\n",
              " 'ऋषभ पंतचा चेहरा वापरून धोनीने केली मैदानात घुसखोरी! सोशल मीडियावर फोटो झाला व्हायरल ',\n",
              " 'Fake IPL: गुजरातच्या शेतात रंगली आयपीएल स्पर्धा! हर्षा भोगलेही झाले चकित ',\n",
              " 'Wimbledon 2022: “हे काही सोपे काम नाही!” नोव्हाक जोकोविचच्या कामगिरीवर ‘मास्टर ब्लास्टर’ने दिली खास शाब्बासकी ',\n",
              " '“त्यांना एक्सपर्ट का म्हणतात हेच कळत नाही”; विराटवर टीका करणाऱ्यांचा रोहितनं घेतला समाचार ',\n",
              " 'ENG vs IND T20I :“मला भविष्यात…”; सूर्यकुमार यादवने शतक ठोकताच रोहित शर्माचे ११ वर्षापूर्वीचे ट्विट व्हायरल ',\n",
              " 'आमचं सरकार पुढील दहा वर्षे चालणार – रामदास आठवले | Ramdas Athawale ',\n",
              " 'आमदार भरत गोगावले यांच्या कारला मुंबईत अपघात | Accident | Bharat Gogavale ',\n",
              " 'भौतिक गोष्टींकडे पाठ फिरवत तरुणीने घेतला संन्यासी होण्याचा निर्णय ',\n",
              " 'Wimbledon 2022 | Nick Kyrgios ला नमवत Novak Djokovicने सातव्यांदा जिंकली विम्बल्डन स्पर्धा ',\n",
              " 'तंबाखू-सिगारेटच्या व्यसनापासून मुक्ती मिळवायचीय?; वेलची आणि बडीशेपची ‘ही’ रेसिपी ठरेल लाभदायक ',\n",
              " 'Denim Styling Tips: डेनिमच्या ‘या’ ट्रेंडी आणि स्मार्ट स्टाइल्स वापरून पाहा; मिळेल स्मार्ट लूक ',\n",
              " 'World Population Day 2022 : का साजरा केला जातो ‘जागतिक लोकसंख्या दिवस’? जाणून घ्या महत्त्व आणि यंदाची थीम ',\n",
              " 'आरोग्यवार्ता : नियमित पाणी प्या, आजारांना दूर ठेवा! ',\n",
              " 'Petrol-Diesel Price Today: ११ जुलै रोजी महाराष्ट्रातील पेट्रोल-डिझेलची किंमत किती? जाणून घ्या ',\n",
              " 'Cheapest CNG Car in India: भारतातील सर्वात स्वस्त CNG कार जी ३१ किमी मायलेज देते, जाणून घ्या किंमत ',\n",
              " 'Tata Tigor XZ Plus Finance Plan: सुलभ डाउनपेमेंट करून तुम्ही टाटा टिगोर खरेदी करू शकता, जाणून घ्या EMI ',\n",
              " 'BSNL चे स्वस्त प्लॅन्स येतील आता ३१ दिवसांच्या वैधतेसह! जाणून घ्या सविस्तर माहिती ',\n",
              " 'तुमच्या Aadhaar वर किती फोन नंबर नोंदणीकृत आहेत? या पद्धतीने जाणून घ्या ',\n",
              " 'Flipkart Electronics Sale: शेवटच्या दिवशी Apple iPhone, Poco, Realme आणि Redmi स्मार्टफोन्सवर बंपर डिस्काउंट ',\n",
              " 'VIRAL VIDEO : एक दोन नव्हे तर तब्बल २७ जण रिक्षामध्ये बसले होते, पाहून पोलीस सुद्धा चक्रावले ',\n",
              " 'बुटाच्या आत लपला होता धोकादायक विषारी साप; Viral Video पाहून तुम्हालाही बसेल धक्का ',\n",
              " 'हात, पाय, तोंडात धरून फळे घेऊन जाणाऱ्या या चिंपांझीचा VIDEO VIRAL, पाहून पोट धरून हसाल ',\n",
              " 'Gold-Silver Price Today: जाणून घ्या, ११ जुलै रोजी महाराष्ट्रातील सोने-चांदीचा दर काय ? ',\n",
              " 'Gold-Silver Price Today: १० जुलै रोजी महाराष्ट्रातील सोने-चांदीचा दर काय ? जाणून घ्या ',\n",
              " 'ऑक्टोबरपासून महागाईत घसरणीची शक्यता – गव्हर्नर दास ',\n",
              " 'स्पर्धा परीक्षा…. ‘ती’ च्या नजरेतून… ',\n",
              " 'शिंझो आबे यांचं महत्त्व जपानबाहेरही होतं… ',\n",
              " 'अग्रलेख :\\xa0स्वागतार्ह दरवाढ! ',\n",
              " 'अन्वयार्थ : समीक्षेची नवी दृष्टी.. ',\n",
              " 'अग्रलेख : काम सुरूच.. ',\n",
              " 'अग्रलेख : बहूं बोलता सौख्य.. ',\n",
              " 'अग्रलेख : आम्लतेची चाचणी.. ',\n",
              " 'अन्वयार्थ : टेनिस पंढरीची शंभरी ',\n",
              " 'अन्वयार्थ : इतरांना इशारा? ',\n",
              " 'अन्वयार्थ : एकाकी आणि उद्ध्वस्त ',\n",
              " 'व्यक्तिवेध : अली पीटर जॉन ',\n",
              " 'व्यक्तिवेध : भजन सोपोरी ',\n",
              " 'व्यक्तिवेध : डॉ. रवी बापट ',\n",
              " 'माझे मित्र आबे सान.. ',\n",
              " 'पत्रकार ते पंतप्रधान ',\n",
              " 'चावडी : निष्ठा म्हणजे काय रे भाऊ? ',\n",
              " 'मतदार नको, नागरिक हवेत! ',\n",
              " '‘महाभारत’ बीज अंकुरले.. ',\n",
              " 'विणकर पीटर! ',\n",
              " '..न व्हावे उदास! ',\n",
              " 'अपत्य एक प्रश्न अनेक ',\n",
              " 'समष्टी समज : आधुनिक जगाच्या आधुनिक चिंता! ',\n",
              " '‘जग’नोंदी : ताल से ताल मिला ',\n",
              " 'चिरतरुण वारी ',\n",
              " 'स्त्रियांसाठी अग्निपथ! ',\n",
              " 'JEE Main Result 2022: जेईई मेन पहिल्या सत्राचा निकाल जाहीर; जाणून घ्या कुठे पाहता येणार ',\n",
              " 'एमपीएससी मंत्र : राज्यसेवा मुख्य परीक्षा बदल ',\n",
              " 'यूपीएससीची तयारी: भारत आणि जग ',\n",
              " '‘अर्था’मागील अर्थभान : मनुष्यबळ व्यवस्थापन (ह्यूमन रिसोर्स मॅनेजमेंट) ',\n",
              " 'लक्ष्मीची पाऊले.. : कांचनसंध्येच्या निमित्ताने ',\n",
              " 'माझा पोर्टफोलियो : शेतीच्या परवडणाऱ्या यांत्रिकीकरणासाठी प्रयत्नरत ',\n",
              " 'महारेरा प्रकल्प तक्रार आणि पारदर्शकता ',\n",
              " 'जाफराबादचा बंगला ',\n",
              " 'वार्षिक सर्वसाधारण सभा आता प्रत्यक्ष सहभाग ',\n",
              " 'पोटलीबाबा : सशाने मारली उडी.. ',\n",
              " 'वारी.. साहित्याची! ',\n",
              " 'बालमैफल : खोटे बोलू नका! ',\n",
              " 'हास्यतरंग : माझ्यासाठी… ',\n",
              " 'हास्यतरंग : शेत कुठे… ',\n",
              " 'हास्यतरंग : आजारी नवऱ्याला… ',\n",
              " 'कुतूहल : नकळत लागलेला शोध – बोर्दो मिश्रण ',\n",
              " 'भाषासूत्र : ष्ट कुठे आणि ष्ठ कुठे ? ',\n",
              " 'कुतूहल : जांभ्या पाषाणाची निर्मिती ',\n",
              " 'पावसाचे अंदाज आणि शेती ',\n",
              " 'जिरेनियम शेती ',\n",
              " 'काँग्रेसचे हुश.. ']"
            ]
          },
          "metadata": {},
          "execution_count": 13
        }
      ]
    },
    {
      "cell_type": "code",
      "source": [
        ""
      ],
      "metadata": {
        "id": "WAtGctVxMLpy"
      },
      "execution_count": 13,
      "outputs": []
    },
    {
      "cell_type": "code",
      "source": [
        "#class=\"entry-wrapper\""
      ],
      "metadata": {
        "id": "vKW26peMMLsZ"
      },
      "execution_count": 14,
      "outputs": []
    },
    {
      "cell_type": "code",
      "source": [
        ""
      ],
      "metadata": {
        "id": "NPB0OQGR_yoC"
      },
      "execution_count": 14,
      "outputs": []
    },
    {
      "cell_type": "code",
      "source": [
        "news13=[]\n",
        "url5='http://www.dailykesari.com/'\n",
        "res=requests.get(url5)\n",
        "ursoup=BeautifulSoup(res.text,'html.parser')\n",
        "for v in ursoup.findAll('h3',class_=\"entry-title td-module-title\"):\n",
        "  news13.append(v.text)\n",
        "  "
      ],
      "metadata": {
        "id": "t53J6MYdGJ2G"
      },
      "execution_count": 15,
      "outputs": []
    },
    {
      "cell_type": "code",
      "source": [
        "news13\n"
      ],
      "metadata": {
        "colab": {
          "base_uri": "https://localhost:8080/"
        },
        "id": "tYabvZC8GJ7D",
        "outputId": "6672ae7d-c4ef-4812-87bf-e413f15f69d6"
      },
      "execution_count": 16,
      "outputs": [
        {
          "output_type": "execute_result",
          "data": {
            "text/plain": [
              "['वयाच्या ९४व्या वर्षी जागतिक स्पर्धेत मिळवले सुवर्णपदक',\n",
              " 'आरेतील मेट्रो स्थानकावरून सुमित राघवनची पोस्ट चर्चेत',\n",
              " 'विजय मल्याला चार महिन्यांच्या कारावासाची शिक्षा',\n",
              " 'महाविकास आघाडीने एकत्र निवडणुका लढवाव्यात',\n",
              " 'राज्यात २ हजार ५९१ नवे रुग्ण',\n",
              " 'श्रीलंकेत आता सर्वपक्षीय सरकार?',\n",
              " 'पुण्यात संततधार सुरूच',\n",
              " 'धरणसाखळीत मागील वर्षाइतका पाणीसाठा',\n",
              " 'गुरू हे वाट दाखवणारे दीपस्तंभ : अजित पवार',\n",
              " 'सुख, समृद्धीसाठी कोरोनासह सर्व अडचणी दूर कर',\n",
              " '‘सुदृढ लोकशाहीसाठी न्यायव्यवस्था निष्पक्ष हवी’',\n",
              " 'निसर्ग शेती चळवळ बनवा : पंतप्रधान मोदी',\n",
              " 'भूकंपाचे धक्के बसले तरी दख्खनचे पठार सुरक्षितच',\n",
              " 'अमरनाथ यात्रेचे महत्त्व',\n",
              " 'अग्\\u200dनिपथमुळे हवाई दल बळकट',\n",
              " 'वरंध घाटात पुन्हा दरड कोसळली',\n",
              " '१६ आमदारांबाबत वेगळा निकाल लागू शकतो',\n",
              " 'पुण्यातील पाणीकपात २६ जुलैपर्यंत रद्द',\n",
              " 'भीमाशंकर परिसरात धबधबे,  निसर्गसौंदर्य पाहण्यासाठी पर्यटकांची गर्दी',\n",
              " 'अभिव्यक्तीच्या झगड्यातून जी.ए. चित्रकला माध्यमाकडे वळले असावेत',\n",
              " 'भाजपचा लोकशाहीवर विश्\\u200dवास नाही',\n",
              " 'भारतासमोर २१६ धावांचे आव्हान',\n",
              " 'जोकोव्हिचने फेडररला टाकले मागे',\n",
              " 'चाहत्यांच्या पाठिंब्यामुळे माझा खेळ बहरला : एलिना रायबाकिना',\n",
              " 'महाराष्ट्राच्या ऐश्वर्याचे विम्बल्डनमध्ये पाऊल',\n",
              " 'वयाच्या ९४व्या वर्षी जागतिक स्पर्धेत मिळवले सुवर्णपदक',\n",
              " 'आरेतील मेट्रो स्थानकावरून सुमित राघवनची पोस्ट चर्चेत',\n",
              " 'विजय मल्याला चार महिन्यांच्या कारावासाची शिक्षा',\n",
              " 'महाविकास आघाडीने एकत्र निवडणुका लढवाव्यात',\n",
              " 'राज्यात २ हजार ५९१ नवे रुग्ण',\n",
              " 'श्रीलंकेत आता सर्वपक्षीय सरकार?',\n",
              " 'पुण्यात संततधार सुरूच',\n",
              " 'धरणसाखळीत मागील वर्षाइतका पाणीसाठा',\n",
              " 'गुरू हे वाट दाखवणारे दीपस्तंभ : अजित पवार',\n",
              " 'दिल्ली पोलिसांना नोटीस',\n",
              " 'आधी गहू आता साखर निर्यातीवर बंदी',\n",
              " 'एसटीनेच करा आषाढी वारीचा प्रवास',\n",
              " 'नूपुर शर्मांशी संबंधित निरीक्षणावर आक्षेप',\n",
              " 'अमरनाथमध्ये पुण्यातील 253 भाविक सुरक्षित',\n",
              " 'पुणे-अहमदाबाद दुरंतो एक्स्प्रेस रोज सुरू करा',\n",
              " 'जीएसटीच्या विरोधात देशभरात व्यापार्\\u200dयांची संघर्ष समिती',\n",
              " 'मुंबईत रेड अलर्ट;कोकणात अतिवृष्टी',\n",
              " 'अमरनाथमध्ये पुण्यातील 253 भाविक सुरक्षित',\n",
              " 'पुणे-अहमदाबाद दुरंतो एक्स्प्रेस रोज सुरू करा',\n",
              " 'वयाच्या ९४व्या वर्षी जागतिक स्पर्धेत मिळवले सुवर्णपदक',\n",
              " 'आरेतील मेट्रो स्थानकावरून सुमित राघवनची पोस्ट चर्चेत',\n",
              " 'विजय मल्याला चार महिन्यांच्या कारावासाची शिक्षा',\n",
              " 'महाविकास आघाडीने एकत्र निवडणुका लढवाव्यात',\n",
              " 'राज्यात २ हजार ५९१ नवे रुग्ण',\n",
              " 'श्रीलंकेत आता सर्वपक्षीय सरकार?',\n",
              " 'पुण्यात संततधार सुरूच',\n",
              " 'धरणसाखळीत मागील वर्षाइतका पाणीसाठा',\n",
              " 'गुरू हे वाट दाखवणारे दीपस्तंभ : अजित पवार',\n",
              " 'सुख, समृद्धीसाठी कोरोनासह सर्व अडचणी दूर कर',\n",
              " 'वयाच्या ९४व्या वर्षी जागतिक स्पर्धेत मिळवले सुवर्णपदक',\n",
              " 'आरेतील मेट्रो स्थानकावरून सुमित राघवनची पोस्ट चर्चेत',\n",
              " 'विजय मल्याला चार महिन्यांच्या कारावासाची शिक्षा',\n",
              " 'अंदमान : भारताने जपलेले एक सुंदर गुपित',\n",
              " 'परत फिरा रे घराकडे आपुल्या',\n",
              " 'या दिवाळीत उडवा ‘सीड्स क्रॅकर्स’']"
            ]
          },
          "metadata": {},
          "execution_count": 16
        }
      ]
    },
    {
      "cell_type": "code",
      "source": [
        "news_co=['maharashtra time']\n",
        "news10=pd.DataFrame(news10,columns=news_co)\n",
        "\n",
        "news_co1=['loksatta']\n",
        "news11=pd.DataFrame(news11,columns=news_co1)\n",
        "\n",
        "new_co2=['divyamarathi']\n",
        "news13=pd.DataFrame(news13,columns=new_co2)\n",
        "\n",
        "\n"
      ],
      "metadata": {
        "id": "EdIFfXQMaiVr"
      },
      "execution_count": 17,
      "outputs": []
    },
    {
      "cell_type": "code",
      "source": [
        "hgjf=[news10,news11,news13,esakal,navshakti]\n",
        "\n",
        "resulds=pd.concat(hgjf,axis=1)"
      ],
      "metadata": {
        "id": "P7j_smk0cg13",
        "colab": {
          "base_uri": "https://localhost:8080/",
          "height": 200
        },
        "outputId": "52db4cb0-c297-49f2-a50a-1e833c4a0746"
      },
      "execution_count": 18,
      "outputs": [
        {
          "output_type": "error",
          "ename": "NameError",
          "evalue": "ignored",
          "traceback": [
            "\u001b[0;31m---------------------------------------------------------------------------\u001b[0m",
            "\u001b[0;31mNameError\u001b[0m                                 Traceback (most recent call last)",
            "\u001b[0;32m<ipython-input-18-dd3dd0e00138>\u001b[0m in \u001b[0;36m<module>\u001b[0;34m()\u001b[0m\n\u001b[0;32m----> 1\u001b[0;31m \u001b[0mhgjf\u001b[0m\u001b[0;34m=\u001b[0m\u001b[0;34m[\u001b[0m\u001b[0mnews10\u001b[0m\u001b[0;34m,\u001b[0m\u001b[0mnews11\u001b[0m\u001b[0;34m,\u001b[0m\u001b[0mnews13\u001b[0m\u001b[0;34m,\u001b[0m\u001b[0mesakal\u001b[0m\u001b[0;34m,\u001b[0m\u001b[0mnavshakti\u001b[0m\u001b[0;34m]\u001b[0m\u001b[0;34m\u001b[0m\u001b[0;34m\u001b[0m\u001b[0m\n\u001b[0m\u001b[1;32m      2\u001b[0m \u001b[0;34m\u001b[0m\u001b[0m\n\u001b[1;32m      3\u001b[0m \u001b[0mresulds\u001b[0m\u001b[0;34m=\u001b[0m\u001b[0mpd\u001b[0m\u001b[0;34m.\u001b[0m\u001b[0mconcat\u001b[0m\u001b[0;34m(\u001b[0m\u001b[0mhgjf\u001b[0m\u001b[0;34m,\u001b[0m\u001b[0maxis\u001b[0m\u001b[0;34m=\u001b[0m\u001b[0;36m1\u001b[0m\u001b[0;34m)\u001b[0m\u001b[0;34m\u001b[0m\u001b[0;34m\u001b[0m\u001b[0m\n",
            "\u001b[0;31mNameError\u001b[0m: name 'esakal' is not defined"
          ]
        }
      ]
    },
    {
      "cell_type": "code",
      "source": [
        "resulds"
      ],
      "metadata": {
        "id": "oGWiVGAAdIaI"
      },
      "execution_count": null,
      "outputs": []
    },
    {
      "cell_type": "code",
      "source": [
        "news_marathi=resulds.dropna()"
      ],
      "metadata": {
        "id": "EcB0cAGCdhjZ"
      },
      "execution_count": null,
      "outputs": []
    },
    {
      "cell_type": "code",
      "source": [
        "last_news=news_marathi.drop(news_marathi.columns[[3,5]],axis=1)\n",
        "\n",
        "last_news.to_csv(\"last_news.csv\",index=True)"
      ],
      "metadata": {
        "id": "35guklGnds_Q"
      },
      "execution_count": null,
      "outputs": []
    },
    {
      "cell_type": "code",
      "source": [
        "import pandas as pd\n",
        "results=pd.read_csv(\"/content/results.csv\")\n",
        "\n",
        "esakal=pd.read_csv(\"/content/esakal.csv\")\n",
        "dainikekmat=pd.read_csv(\"/content/dainikekmat.csv\")\n",
        "navshakti=pd.read_csv(\"/content/navshakti1.csv\")"
      ],
      "metadata": {
        "id": "bvxgktpEZluq"
      },
      "execution_count": null,
      "outputs": []
    },
    {
      "cell_type": "code",
      "source": [
        ""
      ],
      "metadata": {
        "id": "iTR1BKnnb7L8"
      },
      "execution_count": null,
      "outputs": []
    },
    {
      "cell_type": "code",
      "source": [
        ""
      ],
      "metadata": {
        "id": "3kHI1CNSb7lg"
      },
      "execution_count": null,
      "outputs": []
    },
    {
      "cell_type": "code",
      "source": [
        "last=[results,esakal,navshakti,dainikekmat]\n",
        "\n",
        "last_news=pd.concat(last,axis=1)"
      ],
      "metadata": {
        "id": "ru90HfEGaMir"
      },
      "execution_count": null,
      "outputs": []
    },
    {
      "cell_type": "code",
      "source": [
        "last_news"
      ],
      "metadata": {
        "id": "I_fi3ESOal3l"
      },
      "execution_count": null,
      "outputs": []
    },
    {
      "cell_type": "code",
      "source": [
        "frame=[news10,news11,news13]\n",
        "result=pd.concat(frame,axis=1,join='inner')"
      ],
      "metadata": {
        "id": "KX0OzRIllo79"
      },
      "execution_count": null,
      "outputs": []
    },
    {
      "cell_type": "code",
      "source": [
        "result"
      ],
      "metadata": {
        "id": "npLsZz2h4OSR"
      },
      "execution_count": null,
      "outputs": []
    },
    {
      "cell_type": "code",
      "source": [
        "result.to_csv('results.csv',index=True)"
      ],
      "metadata": {
        "id": "Xd1kZqPdoFjb"
      },
      "execution_count": null,
      "outputs": []
    },
    {
      "cell_type": "code",
      "source": [
        "!pip install selenium\n",
        "!apt-get update \n",
        "!apt install chromium-chromedriver\n",
        "\n",
        "from selenium import webdriver\n",
        "chrome_options = webdriver.ChromeOptions()\n",
        "chrome_options.add_argument('--headless')\n",
        "chrome_options.add_argument('--no-sandbox')\n",
        "chrome_options.add_argument('--disable-dev-shm-usage')\n",
        "driver = webdriver.Chrome('chromedriver',chrome_options=chrome_options)"
      ],
      "metadata": {
        "id": "PlH9tCY3BV0p"
      },
      "execution_count": null,
      "outputs": []
    },
    {
      "cell_type": "code",
      "source": [
        "url=requests.get('https://pudhari.news/feed')"
      ],
      "metadata": {
        "id": "H2CmBOOsGKA0"
      },
      "execution_count": null,
      "outputs": []
    },
    {
      "cell_type": "code",
      "source": [
        "soup=BeautifulSoup(url.content,'xml')"
      ],
      "metadata": {
        "id": "in4ESUFfXqAL"
      },
      "execution_count": null,
      "outputs": []
    },
    {
      "cell_type": "code",
      "source": [
        "entries=soup.find_all('title')"
      ],
      "metadata": {
        "id": "ca1kjOvhXqGK"
      },
      "execution_count": null,
      "outputs": []
    },
    {
      "cell_type": "code",
      "source": [
        "for en in entries:\n",
        "  print(en.text)"
      ],
      "metadata": {
        "id": "O-axfDYkXqKk"
      },
      "execution_count": null,
      "outputs": []
    },
    {
      "cell_type": "code",
      "source": [
        "from selenium.webdriver.common.by import By"
      ],
      "metadata": {
        "id": "CaDh8v-aBAfW"
      },
      "execution_count": null,
      "outputs": []
    },
    {
      "cell_type": "code",
      "source": [
        "esakal=driver.find_elements(By.XPATH,\"//h6[contains(@class,'headline-m_headline__3_NhV headline-m_dark__en3hW')]\")"
      ],
      "metadata": {
        "id": "NgzJFNHXBAi_"
      },
      "execution_count": null,
      "outputs": []
    },
    {
      "cell_type": "code",
      "source": [
        ""
      ],
      "metadata": {
        "id": "Q3vaN9NIaebi"
      },
      "execution_count": null,
      "outputs": []
    },
    {
      "cell_type": "code",
      "source": [
        "for i in esakal:\n",
        "  print(i)\n",
        "\n"
      ],
      "metadata": {
        "id": "aRphGvnfBAlw"
      },
      "execution_count": null,
      "outputs": []
    },
    {
      "cell_type": "code",
      "source": [
        "import pandas as pd\n",
        "\n",
        "data=pd.read_csv(\"/content/esakal.csv\")\n",
        "data"
      ],
      "metadata": {
        "id": "1Q0nvQFfGKDl"
      },
      "execution_count": null,
      "outputs": []
    },
    {
      "cell_type": "code",
      "source": [
        ""
      ],
      "metadata": {
        "id": "Vcez1YynCQFw"
      },
      "execution_count": null,
      "outputs": []
    },
    {
      "cell_type": "code",
      "source": [
        "import pandas as pd\n",
        "import numpy as np"
      ],
      "metadata": {
        "id": "nkgvvPxkCQIS"
      },
      "execution_count": 1,
      "outputs": []
    },
    {
      "cell_type": "code",
      "source": [
        "data=pd.read_csv(\"/content/last_news.csv\")"
      ],
      "metadata": {
        "id": "aJHm-iMrCUbB"
      },
      "execution_count": 2,
      "outputs": []
    },
    {
      "cell_type": "code",
      "source": [
        "data.head()"
      ],
      "metadata": {
        "colab": {
          "base_uri": "https://localhost:8080/",
          "height": 337
        },
        "id": "tbBOEdhUCUib",
        "outputId": "1740ec4b-9228-4d84-c6d4-66f90be6dabe"
      },
      "execution_count": 3,
      "outputs": [
        {
          "output_type": "execute_result",
          "data": {
            "text/plain": [
              "   Unnamed: 0                                   maharashtra time  \\\n",
              "0           4   निष्काळजीपणा नको! अमेरिकेत एका महिन्यात करोना...   \n",
              "1           5   फेसबुक आणि इन्स्टाग्रामला 'दहशतवादी संघटना' म...   \n",
              "2           6   रशियाबद्दल भारताची भूमिका अस्थिर; अमेरिकेचे अ...   \n",
              "3          12   रशियाविरुद्ध झुंजणाऱ्या युक्रेनला अमेरिकेकडून...   \n",
              "4          13   Ukraine Crisis: खासगी कंपन्यांकडून रशियाची को...   \n",
              "\n",
              "                                            loksatta  \\\n",
              "0  पुढील ३ दिवस राज्यात अतिवृष्टीची शक्यता, ‘या’ ...   \n",
              "1  विश्लेषण : शिंजो आबेंवर गोळ्या झाडणारा तोमागाम...   \n",
              "2  “मला VIP ट्रीटमेंट नको, माझ्या ताफ्यासाठी सर्व...   \n",
              "3  एमआयटी वर्ल्ड पीस युनिव्हर्सिटीने एमबीए प्रोग्...   \n",
              "4  तेलंगणामध्ये पुराच्या पाण्यात बुडाली स्कूल बस;...   \n",
              "\n",
              "                                        divyamarathi  \\\n",
              "0  जपानचे माजी पंतप्रधान शिंजो आबे यांचे भारताशी ...   \n",
              "1       NSE गैर व्यवहार प्रकरणी सीबीआयची मोठी कारवाई   \n",
              "2  जुबेर यांना सर्वोच्च न्यायालयाकडून ५ दिवसांचा ...   \n",
              "3              स्मृती इराणींकडे अल्पसंख्याक मंत्रालय   \n",
              "4                        देशात १८ हजार ९३० नवे रुग्ण   \n",
              "\n",
              "                                         dainikekmat  \\\n",
              "0                                   बंड नव्हे उठाव !   \n",
              "1  कोल्हापूर, सांगलीच्या पुराचं पाणी मराठवाड्यात ...   \n",
              "2  काँग्रेसचे माजी प्रदेशाध्यक्ष राज बब्बर यांना ...   \n",
              "3         डॉ. बिना मीना यांची ‘नासा’मध्ये शास्त्रज्ञ   \n",
              "4                            सुदृढ आरोग्य महत्त्वाचे   \n",
              "\n",
              "                                           navshakti  \n",
              "0  मुख्यमंत्री शिंदेंची ठाकरेंवर तोफ,म्हणाले ठाकर...  \n",
              "1       हवामान खात्याकडून तीन दिवस अतिवृष्टीचा इशारा  \n",
              "2  महागाईमुळे त्रस्त असलेल्या जनतेला धक्का, स्वयं...  \n",
              "3            चुनाभट्टीत चाळीवर कोसळली दरड; तिघे जखमी  \n",
              "4  संतोष बांगर यांच्या बंडखोरीवर शिवसेना करणार का...  "
            ],
            "text/html": [
              "\n",
              "  <div id=\"df-5fcfb050-c3b7-4eb1-8e8f-288184d3fa24\">\n",
              "    <div class=\"colab-df-container\">\n",
              "      <div>\n",
              "<style scoped>\n",
              "    .dataframe tbody tr th:only-of-type {\n",
              "        vertical-align: middle;\n",
              "    }\n",
              "\n",
              "    .dataframe tbody tr th {\n",
              "        vertical-align: top;\n",
              "    }\n",
              "\n",
              "    .dataframe thead th {\n",
              "        text-align: right;\n",
              "    }\n",
              "</style>\n",
              "<table border=\"1\" class=\"dataframe\">\n",
              "  <thead>\n",
              "    <tr style=\"text-align: right;\">\n",
              "      <th></th>\n",
              "      <th>Unnamed: 0</th>\n",
              "      <th>maharashtra time</th>\n",
              "      <th>loksatta</th>\n",
              "      <th>divyamarathi</th>\n",
              "      <th>dainikekmat</th>\n",
              "      <th>navshakti</th>\n",
              "    </tr>\n",
              "  </thead>\n",
              "  <tbody>\n",
              "    <tr>\n",
              "      <th>0</th>\n",
              "      <td>4</td>\n",
              "      <td>निष्काळजीपणा नको! अमेरिकेत एका महिन्यात करोना...</td>\n",
              "      <td>पुढील ३ दिवस राज्यात अतिवृष्टीची शक्यता, ‘या’ ...</td>\n",
              "      <td>जपानचे माजी पंतप्रधान शिंजो आबे यांचे भारताशी ...</td>\n",
              "      <td>बंड नव्हे उठाव !</td>\n",
              "      <td>मुख्यमंत्री शिंदेंची ठाकरेंवर तोफ,म्हणाले ठाकर...</td>\n",
              "    </tr>\n",
              "    <tr>\n",
              "      <th>1</th>\n",
              "      <td>5</td>\n",
              "      <td>फेसबुक आणि इन्स्टाग्रामला 'दहशतवादी संघटना' म...</td>\n",
              "      <td>विश्लेषण : शिंजो आबेंवर गोळ्या झाडणारा तोमागाम...</td>\n",
              "      <td>NSE गैर व्यवहार प्रकरणी सीबीआयची मोठी कारवाई</td>\n",
              "      <td>कोल्हापूर, सांगलीच्या पुराचं पाणी मराठवाड्यात ...</td>\n",
              "      <td>हवामान खात्याकडून तीन दिवस अतिवृष्टीचा इशारा</td>\n",
              "    </tr>\n",
              "    <tr>\n",
              "      <th>2</th>\n",
              "      <td>6</td>\n",
              "      <td>रशियाबद्दल भारताची भूमिका अस्थिर; अमेरिकेचे अ...</td>\n",
              "      <td>“मला VIP ट्रीटमेंट नको, माझ्या ताफ्यासाठी सर्व...</td>\n",
              "      <td>जुबेर यांना सर्वोच्च न्यायालयाकडून ५ दिवसांचा ...</td>\n",
              "      <td>काँग्रेसचे माजी प्रदेशाध्यक्ष राज बब्बर यांना ...</td>\n",
              "      <td>महागाईमुळे त्रस्त असलेल्या जनतेला धक्का, स्वयं...</td>\n",
              "    </tr>\n",
              "    <tr>\n",
              "      <th>3</th>\n",
              "      <td>12</td>\n",
              "      <td>रशियाविरुद्ध झुंजणाऱ्या युक्रेनला अमेरिकेकडून...</td>\n",
              "      <td>एमआयटी वर्ल्ड पीस युनिव्हर्सिटीने एमबीए प्रोग्...</td>\n",
              "      <td>स्मृती इराणींकडे अल्पसंख्याक मंत्रालय</td>\n",
              "      <td>डॉ. बिना मीना यांची ‘नासा’मध्ये शास्त्रज्ञ</td>\n",
              "      <td>चुनाभट्टीत चाळीवर कोसळली दरड; तिघे जखमी</td>\n",
              "    </tr>\n",
              "    <tr>\n",
              "      <th>4</th>\n",
              "      <td>13</td>\n",
              "      <td>Ukraine Crisis: खासगी कंपन्यांकडून रशियाची को...</td>\n",
              "      <td>तेलंगणामध्ये पुराच्या पाण्यात बुडाली स्कूल बस;...</td>\n",
              "      <td>देशात १८ हजार ९३० नवे रुग्ण</td>\n",
              "      <td>सुदृढ आरोग्य महत्त्वाचे</td>\n",
              "      <td>संतोष बांगर यांच्या बंडखोरीवर शिवसेना करणार का...</td>\n",
              "    </tr>\n",
              "  </tbody>\n",
              "</table>\n",
              "</div>\n",
              "      <button class=\"colab-df-convert\" onclick=\"convertToInteractive('df-5fcfb050-c3b7-4eb1-8e8f-288184d3fa24')\"\n",
              "              title=\"Convert this dataframe to an interactive table.\"\n",
              "              style=\"display:none;\">\n",
              "        \n",
              "  <svg xmlns=\"http://www.w3.org/2000/svg\" height=\"24px\"viewBox=\"0 0 24 24\"\n",
              "       width=\"24px\">\n",
              "    <path d=\"M0 0h24v24H0V0z\" fill=\"none\"/>\n",
              "    <path d=\"M18.56 5.44l.94 2.06.94-2.06 2.06-.94-2.06-.94-.94-2.06-.94 2.06-2.06.94zm-11 1L8.5 8.5l.94-2.06 2.06-.94-2.06-.94L8.5 2.5l-.94 2.06-2.06.94zm10 10l.94 2.06.94-2.06 2.06-.94-2.06-.94-.94-2.06-.94 2.06-2.06.94z\"/><path d=\"M17.41 7.96l-1.37-1.37c-.4-.4-.92-.59-1.43-.59-.52 0-1.04.2-1.43.59L10.3 9.45l-7.72 7.72c-.78.78-.78 2.05 0 2.83L4 21.41c.39.39.9.59 1.41.59.51 0 1.02-.2 1.41-.59l7.78-7.78 2.81-2.81c.8-.78.8-2.07 0-2.86zM5.41 20L4 18.59l7.72-7.72 1.47 1.35L5.41 20z\"/>\n",
              "  </svg>\n",
              "      </button>\n",
              "      \n",
              "  <style>\n",
              "    .colab-df-container {\n",
              "      display:flex;\n",
              "      flex-wrap:wrap;\n",
              "      gap: 12px;\n",
              "    }\n",
              "\n",
              "    .colab-df-convert {\n",
              "      background-color: #E8F0FE;\n",
              "      border: none;\n",
              "      border-radius: 50%;\n",
              "      cursor: pointer;\n",
              "      display: none;\n",
              "      fill: #1967D2;\n",
              "      height: 32px;\n",
              "      padding: 0 0 0 0;\n",
              "      width: 32px;\n",
              "    }\n",
              "\n",
              "    .colab-df-convert:hover {\n",
              "      background-color: #E2EBFA;\n",
              "      box-shadow: 0px 1px 2px rgba(60, 64, 67, 0.3), 0px 1px 3px 1px rgba(60, 64, 67, 0.15);\n",
              "      fill: #174EA6;\n",
              "    }\n",
              "\n",
              "    [theme=dark] .colab-df-convert {\n",
              "      background-color: #3B4455;\n",
              "      fill: #D2E3FC;\n",
              "    }\n",
              "\n",
              "    [theme=dark] .colab-df-convert:hover {\n",
              "      background-color: #434B5C;\n",
              "      box-shadow: 0px 1px 3px 1px rgba(0, 0, 0, 0.15);\n",
              "      filter: drop-shadow(0px 1px 2px rgba(0, 0, 0, 0.3));\n",
              "      fill: #FFFFFF;\n",
              "    }\n",
              "  </style>\n",
              "\n",
              "      <script>\n",
              "        const buttonEl =\n",
              "          document.querySelector('#df-5fcfb050-c3b7-4eb1-8e8f-288184d3fa24 button.colab-df-convert');\n",
              "        buttonEl.style.display =\n",
              "          google.colab.kernel.accessAllowed ? 'block' : 'none';\n",
              "\n",
              "        async function convertToInteractive(key) {\n",
              "          const element = document.querySelector('#df-5fcfb050-c3b7-4eb1-8e8f-288184d3fa24');\n",
              "          const dataTable =\n",
              "            await google.colab.kernel.invokeFunction('convertToInteractive',\n",
              "                                                     [key], {});\n",
              "          if (!dataTable) return;\n",
              "\n",
              "          const docLinkHtml = 'Like what you see? Visit the ' +\n",
              "            '<a target=\"_blank\" href=https://colab.research.google.com/notebooks/data_table.ipynb>data table notebook</a>'\n",
              "            + ' to learn more about interactive tables.';\n",
              "          element.innerHTML = '';\n",
              "          dataTable['output_type'] = 'display_data';\n",
              "          await google.colab.output.renderOutput(dataTable, element);\n",
              "          const docLink = document.createElement('div');\n",
              "          docLink.innerHTML = docLinkHtml;\n",
              "          element.appendChild(docLink);\n",
              "        }\n",
              "      </script>\n",
              "    </div>\n",
              "  </div>\n",
              "  "
            ]
          },
          "metadata": {},
          "execution_count": 3
        }
      ]
    },
    {
      "cell_type": "code",
      "source": [
        "!pip install torch==1.3.1+cpu -f"
      ],
      "metadata": {
        "colab": {
          "base_uri": "https://localhost:8080/"
        },
        "id": "xAC0YrpqCUnK",
        "outputId": "87c8f409-cf1c-4e4e-9a15-6fff2c3f4de9"
      },
      "execution_count": 23,
      "outputs": [
        {
          "output_type": "stream",
          "name": "stdout",
          "text": [
            "\n",
            "Usage:   \n",
            "  pip3 install [options] <requirement specifier> [package-index-options] ...\n",
            "  pip3 install [options] -r <requirements file> [package-index-options] ...\n",
            "  pip3 install [options] [-e] <vcs project url> ...\n",
            "  pip3 install [options] [-e] <local project path> ...\n",
            "  pip3 install [options] <archive url/path> ...\n",
            "\n",
            "-f option requires 1 argument\n"
          ]
        }
      ]
    },
    {
      "cell_type": "code",
      "source": [
        "pip install nltk"
      ],
      "metadata": {
        "colab": {
          "base_uri": "https://localhost:8080/"
        },
        "id": "aaLgOeYbCdvB",
        "outputId": "a2fc5a7b-6b81-425a-8f5f-7716c6609e8a"
      },
      "execution_count": 24,
      "outputs": [
        {
          "output_type": "stream",
          "name": "stdout",
          "text": [
            "Looking in indexes: https://pypi.org/simple, https://us-python.pkg.dev/colab-wheels/public/simple/\n",
            "Requirement already satisfied: nltk in /usr/local/lib/python3.7/dist-packages (3.7)\n",
            "Requirement already satisfied: click in /usr/local/lib/python3.7/dist-packages (from nltk) (7.1.2)\n",
            "Requirement already satisfied: regex>=2021.8.3 in /usr/local/lib/python3.7/dist-packages (from nltk) (2022.6.2)\n",
            "Requirement already satisfied: joblib in /usr/local/lib/python3.7/dist-packages (from nltk) (1.1.0)\n",
            "Requirement already satisfied: tqdm in /usr/local/lib/python3.7/dist-packages (from nltk) (4.64.0)\n"
          ]
        }
      ]
    },
    {
      "cell_type": "code",
      "source": [
        "pip install torch==1.3.1+cpu -f https://download.pytorch.org/whl/torch_stable.html\n"
      ],
      "metadata": {
        "colab": {
          "base_uri": "https://localhost:8080/"
        },
        "id": "yuCBr7rZCdx3",
        "outputId": "2394b5dc-8e1d-4e63-ab2d-8f2f89dcfedd"
      },
      "execution_count": 4,
      "outputs": [
        {
          "output_type": "stream",
          "name": "stdout",
          "text": [
            "Looking in indexes: https://pypi.org/simple, https://us-python.pkg.dev/colab-wheels/public/simple/\n",
            "Looking in links: https://download.pytorch.org/whl/torch_stable.html\n",
            "Collecting torch==1.3.1+cpu\n",
            "  Downloading https://download.pytorch.org/whl/cpu/torch-1.3.1%2Bcpu-cp37-cp37m-linux_x86_64.whl (111.8 MB)\n",
            "\u001b[K     |████████████████████████████████| 111.8 MB 97 kB/s \n",
            "\u001b[?25hRequirement already satisfied: numpy in /usr/local/lib/python3.7/dist-packages (from torch==1.3.1+cpu) (1.21.6)\n",
            "Installing collected packages: torch\n",
            "  Attempting uninstall: torch\n",
            "    Found existing installation: torch 1.11.0+cu113\n",
            "    Uninstalling torch-1.11.0+cu113:\n",
            "      Successfully uninstalled torch-1.11.0+cu113\n",
            "\u001b[31mERROR: pip's dependency resolver does not currently take into account all the packages that are installed. This behaviour is the source of the following dependency conflicts.\n",
            "torchvision 0.12.0+cu113 requires torch==1.11.0, but you have torch 1.3.1+cpu which is incompatible.\n",
            "torchtext 0.12.0 requires torch==1.11.0, but you have torch 1.3.1+cpu which is incompatible.\n",
            "torchaudio 0.11.0+cu113 requires torch==1.11.0, but you have torch 1.3.1+cpu which is incompatible.\n",
            "fastai 2.6.3 requires torch<1.12,>=1.7.0, but you have torch 1.3.1+cpu which is incompatible.\u001b[0m\n",
            "Successfully installed torch-1.3.1+cpu\n"
          ]
        }
      ]
    },
    {
      "cell_type": "code",
      "source": [
        "!pip install inltk\n",
        "\n",
        "from inltk.inltk import tokenize\n",
        "\n",
        "\n"
      ],
      "metadata": {
        "colab": {
          "base_uri": "https://localhost:8080/",
          "height": 1000
        },
        "id": "zRu3ksB2Cd3W",
        "outputId": "b83e3431-8ad1-4d9b-9592-d509314c628c"
      },
      "execution_count": 5,
      "outputs": [
        {
          "output_type": "stream",
          "name": "stdout",
          "text": [
            "Looking in indexes: https://pypi.org/simple, https://us-python.pkg.dev/colab-wheels/public/simple/\n",
            "Collecting inltk\n",
            "  Downloading inltk-0.9-py3-none-any.whl (13 kB)\n",
            "Collecting typing\n",
            "  Downloading typing-3.7.4.3.tar.gz (78 kB)\n",
            "\u001b[K     |████████████████████████████████| 78 kB 3.8 MB/s \n",
            "\u001b[?25hRequirement already satisfied: scipy in /usr/local/lib/python3.7/dist-packages (from inltk) (1.4.1)\n",
            "Requirement already satisfied: numexpr in /usr/local/lib/python3.7/dist-packages (from inltk) (2.8.1)\n",
            "Requirement already satisfied: pandas in /usr/local/lib/python3.7/dist-packages (from inltk) (1.3.5)\n",
            "Collecting aiohttp>=3.5.4\n",
            "  Downloading aiohttp-3.8.1-cp37-cp37m-manylinux_2_5_x86_64.manylinux1_x86_64.manylinux_2_12_x86_64.manylinux2010_x86_64.whl (1.1 MB)\n",
            "\u001b[K     |████████████████████████████████| 1.1 MB 32.4 MB/s \n",
            "\u001b[?25hCollecting sentencepiece\n",
            "  Downloading sentencepiece-0.1.96-cp37-cp37m-manylinux_2_17_x86_64.manylinux2014_x86_64.whl (1.2 MB)\n",
            "\u001b[K     |████████████████████████████████| 1.2 MB 46.9 MB/s \n",
            "\u001b[?25hCollecting nvidia-ml-py3\n",
            "  Downloading nvidia-ml-py3-7.352.0.tar.gz (19 kB)\n",
            "Requirement already satisfied: requests in /usr/local/lib/python3.7/dist-packages (from inltk) (2.23.0)\n",
            "Collecting fastai==1.0.57\n",
            "  Downloading fastai-1.0.57-py3-none-any.whl (233 kB)\n",
            "\u001b[K     |████████████████████████████████| 233 kB 56.5 MB/s \n",
            "\u001b[?25hRequirement already satisfied: matplotlib in /usr/local/lib/python3.7/dist-packages (from inltk) (3.2.2)\n",
            "Requirement already satisfied: numpy>=1.15 in /usr/local/lib/python3.7/dist-packages (from inltk) (1.21.6)\n",
            "Collecting bottleneck\n",
            "  Downloading Bottleneck-1.3.5-cp37-cp37m-manylinux_2_5_x86_64.manylinux1_x86_64.manylinux_2_17_x86_64.manylinux2014_x86_64.whl (355 kB)\n",
            "\u001b[K     |████████████████████████████████| 355 kB 62.4 MB/s \n",
            "\u001b[?25hRequirement already satisfied: packaging in /usr/local/lib/python3.7/dist-packages (from inltk) (21.3)\n",
            "Requirement already satisfied: beautifulsoup4 in /usr/local/lib/python3.7/dist-packages (from inltk) (4.6.3)\n",
            "Requirement already satisfied: Pillow in /usr/local/lib/python3.7/dist-packages (from inltk) (7.1.2)\n",
            "Requirement already satisfied: fastprogress>=0.1.19 in /usr/local/lib/python3.7/dist-packages (from inltk) (1.0.2)\n",
            "Requirement already satisfied: spacy>=2.0.18 in /usr/local/lib/python3.7/dist-packages (from inltk) (3.3.1)\n",
            "Collecting async-timeout>=3.0.1\n",
            "  Downloading async_timeout-4.0.2-py3-none-any.whl (5.8 kB)\n",
            "Requirement already satisfied: pyyaml in /usr/local/lib/python3.7/dist-packages (from inltk) (3.13)\n",
            "Requirement already satisfied: torch>=1.0.0 in /usr/local/lib/python3.7/dist-packages (from fastai==1.0.57->inltk) (1.3.1+cpu)\n",
            "Requirement already satisfied: torchvision in /usr/local/lib/python3.7/dist-packages (from fastai==1.0.57->inltk) (0.12.0+cu113)\n",
            "Requirement already satisfied: typing-extensions>=3.7.4 in /usr/local/lib/python3.7/dist-packages (from aiohttp>=3.5.4->inltk) (4.1.1)\n",
            "Collecting frozenlist>=1.1.1\n",
            "  Downloading frozenlist-1.3.0-cp37-cp37m-manylinux_2_5_x86_64.manylinux1_x86_64.manylinux_2_17_x86_64.manylinux2014_x86_64.whl (144 kB)\n",
            "\u001b[K     |████████████████████████████████| 144 kB 58.9 MB/s \n",
            "\u001b[?25hRequirement already satisfied: attrs>=17.3.0 in /usr/local/lib/python3.7/dist-packages (from aiohttp>=3.5.4->inltk) (21.4.0)\n",
            "Collecting aiosignal>=1.1.2\n",
            "  Downloading aiosignal-1.2.0-py3-none-any.whl (8.2 kB)\n",
            "Requirement already satisfied: charset-normalizer<3.0,>=2.0 in /usr/local/lib/python3.7/dist-packages (from aiohttp>=3.5.4->inltk) (2.1.0)\n",
            "Collecting multidict<7.0,>=4.5\n",
            "  Downloading multidict-6.0.2-cp37-cp37m-manylinux_2_17_x86_64.manylinux2014_x86_64.whl (94 kB)\n",
            "\u001b[K     |████████████████████████████████| 94 kB 1.7 MB/s \n",
            "\u001b[?25hCollecting yarl<2.0,>=1.0\n",
            "  Downloading yarl-1.7.2-cp37-cp37m-manylinux_2_5_x86_64.manylinux1_x86_64.manylinux_2_12_x86_64.manylinux2010_x86_64.whl (271 kB)\n",
            "\u001b[K     |████████████████████████████████| 271 kB 44.6 MB/s \n",
            "\u001b[?25hCollecting asynctest==0.13.0\n",
            "  Downloading asynctest-0.13.0-py3-none-any.whl (26 kB)\n",
            "Requirement already satisfied: blis<0.8.0,>=0.4.0 in /usr/local/lib/python3.7/dist-packages (from spacy>=2.0.18->inltk) (0.7.7)\n",
            "Requirement already satisfied: spacy-loggers<2.0.0,>=1.0.0 in /usr/local/lib/python3.7/dist-packages (from spacy>=2.0.18->inltk) (1.0.2)\n",
            "Requirement already satisfied: thinc<8.1.0,>=8.0.14 in /usr/local/lib/python3.7/dist-packages (from spacy>=2.0.18->inltk) (8.0.17)\n",
            "Requirement already satisfied: cymem<2.1.0,>=2.0.2 in /usr/local/lib/python3.7/dist-packages (from spacy>=2.0.18->inltk) (2.0.6)\n",
            "Requirement already satisfied: pydantic!=1.8,!=1.8.1,<1.9.0,>=1.7.4 in /usr/local/lib/python3.7/dist-packages (from spacy>=2.0.18->inltk) (1.8.2)\n",
            "Requirement already satisfied: srsly<3.0.0,>=2.4.3 in /usr/local/lib/python3.7/dist-packages (from spacy>=2.0.18->inltk) (2.4.3)\n",
            "Requirement already satisfied: wasabi<1.1.0,>=0.9.1 in /usr/local/lib/python3.7/dist-packages (from spacy>=2.0.18->inltk) (0.9.1)\n",
            "Requirement already satisfied: spacy-legacy<3.1.0,>=3.0.9 in /usr/local/lib/python3.7/dist-packages (from spacy>=2.0.18->inltk) (3.0.9)\n",
            "Requirement already satisfied: preshed<3.1.0,>=3.0.2 in /usr/local/lib/python3.7/dist-packages (from spacy>=2.0.18->inltk) (3.0.6)\n",
            "Requirement already satisfied: jinja2 in /usr/local/lib/python3.7/dist-packages (from spacy>=2.0.18->inltk) (2.11.3)\n",
            "Requirement already satisfied: tqdm<5.0.0,>=4.38.0 in /usr/local/lib/python3.7/dist-packages (from spacy>=2.0.18->inltk) (4.64.0)\n",
            "Requirement already satisfied: murmurhash<1.1.0,>=0.28.0 in /usr/local/lib/python3.7/dist-packages (from spacy>=2.0.18->inltk) (1.0.7)\n",
            "Requirement already satisfied: langcodes<4.0.0,>=3.2.0 in /usr/local/lib/python3.7/dist-packages (from spacy>=2.0.18->inltk) (3.3.0)\n",
            "Requirement already satisfied: typer<0.5.0,>=0.3.0 in /usr/local/lib/python3.7/dist-packages (from spacy>=2.0.18->inltk) (0.4.1)\n",
            "Requirement already satisfied: pathy>=0.3.5 in /usr/local/lib/python3.7/dist-packages (from spacy>=2.0.18->inltk) (0.6.1)\n",
            "Requirement already satisfied: catalogue<2.1.0,>=2.0.6 in /usr/local/lib/python3.7/dist-packages (from spacy>=2.0.18->inltk) (2.0.7)\n",
            "Requirement already satisfied: setuptools in /usr/local/lib/python3.7/dist-packages (from spacy>=2.0.18->inltk) (57.4.0)\n",
            "Requirement already satisfied: zipp>=0.5 in /usr/local/lib/python3.7/dist-packages (from catalogue<2.1.0,>=2.0.6->spacy>=2.0.18->inltk) (3.8.0)\n",
            "Requirement already satisfied: pyparsing!=3.0.5,>=2.0.2 in /usr/local/lib/python3.7/dist-packages (from packaging->inltk) (3.0.9)\n",
            "Requirement already satisfied: smart-open<6.0.0,>=5.0.0 in /usr/local/lib/python3.7/dist-packages (from pathy>=0.3.5->spacy>=2.0.18->inltk) (5.2.1)\n",
            "Requirement already satisfied: urllib3!=1.25.0,!=1.25.1,<1.26,>=1.21.1 in /usr/local/lib/python3.7/dist-packages (from requests->inltk) (1.24.3)\n",
            "Requirement already satisfied: idna<3,>=2.5 in /usr/local/lib/python3.7/dist-packages (from requests->inltk) (2.10)\n",
            "Requirement already satisfied: certifi>=2017.4.17 in /usr/local/lib/python3.7/dist-packages (from requests->inltk) (2022.6.15)\n",
            "Requirement already satisfied: chardet<4,>=3.0.2 in /usr/local/lib/python3.7/dist-packages (from requests->inltk) (3.0.4)\n",
            "Requirement already satisfied: click<9.0.0,>=7.1.1 in /usr/local/lib/python3.7/dist-packages (from typer<0.5.0,>=0.3.0->spacy>=2.0.18->inltk) (7.1.2)\n",
            "Requirement already satisfied: MarkupSafe>=0.23 in /usr/local/lib/python3.7/dist-packages (from jinja2->spacy>=2.0.18->inltk) (2.0.1)\n",
            "Requirement already satisfied: cycler>=0.10 in /usr/local/lib/python3.7/dist-packages (from matplotlib->inltk) (0.11.0)\n",
            "Requirement already satisfied: python-dateutil>=2.1 in /usr/local/lib/python3.7/dist-packages (from matplotlib->inltk) (2.8.2)\n",
            "Requirement already satisfied: kiwisolver>=1.0.1 in /usr/local/lib/python3.7/dist-packages (from matplotlib->inltk) (1.4.3)\n",
            "Requirement already satisfied: six>=1.5 in /usr/local/lib/python3.7/dist-packages (from python-dateutil>=2.1->matplotlib->inltk) (1.15.0)\n",
            "Requirement already satisfied: pytz>=2017.3 in /usr/local/lib/python3.7/dist-packages (from pandas->inltk) (2022.1)\n",
            "Collecting torch>=1.0.0\n",
            "  Downloading torch-1.11.0-cp37-cp37m-manylinux1_x86_64.whl (750.6 MB)\n",
            "\u001b[K     |████████████████████████████████| 750.6 MB 11 kB/s \n",
            "\u001b[?25hBuilding wheels for collected packages: nvidia-ml-py3, typing\n",
            "  Building wheel for nvidia-ml-py3 (setup.py) ... \u001b[?25l\u001b[?25hdone\n",
            "  Created wheel for nvidia-ml-py3: filename=nvidia_ml_py3-7.352.0-py3-none-any.whl size=19190 sha256=fff99471e74cedd16ecd62d01892111439086c423c1477c34a88751056e7830a\n",
            "  Stored in directory: /root/.cache/pip/wheels/df/99/da/c34f202dc8fd1dffd35e0ecf1a7d7f8374ca05fbcbaf974b83\n",
            "  Building wheel for typing (setup.py) ... \u001b[?25l\u001b[?25hdone\n",
            "  Created wheel for typing: filename=typing-3.7.4.3-py3-none-any.whl size=26325 sha256=506cecd8315cfe78bef6083beae574d5db4403f4be18f5b0b9b5c7f575262916\n",
            "  Stored in directory: /root/.cache/pip/wheels/35/f3/15/01aa6571f0a72ee6ae7b827c1491c37a1f72d686fd22b43b0e\n",
            "Successfully built nvidia-ml-py3 typing\n",
            "Installing collected packages: torch, multidict, frozenlist, yarl, nvidia-ml-py3, bottleneck, asynctest, async-timeout, aiosignal, typing, sentencepiece, fastai, aiohttp, inltk\n",
            "  Attempting uninstall: torch\n",
            "    Found existing installation: torch 1.3.1+cpu\n",
            "    Uninstalling torch-1.3.1+cpu:\n",
            "      Successfully uninstalled torch-1.3.1+cpu\n",
            "  Attempting uninstall: fastai\n",
            "    Found existing installation: fastai 2.6.3\n",
            "    Uninstalling fastai-2.6.3:\n",
            "      Successfully uninstalled fastai-2.6.3\n",
            "Successfully installed aiohttp-3.8.1 aiosignal-1.2.0 async-timeout-4.0.2 asynctest-0.13.0 bottleneck-1.3.5 fastai-1.0.57 frozenlist-1.3.0 inltk-0.9 multidict-6.0.2 nvidia-ml-py3-7.352.0 sentencepiece-0.1.96 torch-1.11.0 typing-3.7.4.3 yarl-1.7.2\n"
          ]
        },
        {
          "output_type": "display_data",
          "data": {
            "application/vnd.colab-display-data+json": {
              "pip_warning": {
                "packages": [
                  "typing"
                ]
              }
            }
          },
          "metadata": {}
        }
      ]
    },
    {
      "cell_type": "code",
      "source": [
        "da1=tokenize(data['maharashtra time'],\"mr\")"
      ],
      "metadata": {
        "colab": {
          "base_uri": "https://localhost:8080/",
          "height": 311
        },
        "id": "qqVvWEjsCd9S",
        "outputId": "c94a7bd0-535f-402a-dc60-26599ac5bcae"
      },
      "execution_count": 42,
      "outputs": [
        {
          "output_type": "error",
          "ename": "Exception",
          "evalue": "ignored",
          "traceback": [
            "\u001b[0;31m---------------------------------------------------------------------------\u001b[0m",
            "\u001b[0;31mException\u001b[0m                                 Traceback (most recent call last)",
            "\u001b[0;32m<ipython-input-42-f3a53e1f3449>\u001b[0m in \u001b[0;36m<module>\u001b[0;34m()\u001b[0m\n\u001b[0;32m----> 1\u001b[0;31m \u001b[0mda1\u001b[0m\u001b[0;34m=\u001b[0m\u001b[0mtokenize\u001b[0m\u001b[0;34m(\u001b[0m\u001b[0mdata\u001b[0m\u001b[0;34m[\u001b[0m\u001b[0;34m'maharashtra time'\u001b[0m\u001b[0;34m]\u001b[0m\u001b[0;34m,\u001b[0m\u001b[0;34m\"mr\"\u001b[0m\u001b[0;34m)\u001b[0m\u001b[0;34m\u001b[0m\u001b[0;34m\u001b[0m\u001b[0m\n\u001b[0m",
            "\u001b[0;32m/usr/local/lib/python3.7/dist-packages/inltk/inltk.py\u001b[0m in \u001b[0;36mtokenize\u001b[0;34m(input, language_code)\u001b[0m\n\u001b[1;32m     59\u001b[0m \u001b[0;34m\u001b[0m\u001b[0m\n\u001b[1;32m     60\u001b[0m \u001b[0;32mdef\u001b[0m \u001b[0mtokenize\u001b[0m\u001b[0;34m(\u001b[0m\u001b[0minput\u001b[0m\u001b[0;34m:\u001b[0m \u001b[0mstr\u001b[0m\u001b[0;34m,\u001b[0m \u001b[0mlanguage_code\u001b[0m\u001b[0;34m:\u001b[0m \u001b[0mstr\u001b[0m\u001b[0;34m)\u001b[0m\u001b[0;34m:\u001b[0m\u001b[0;34m\u001b[0m\u001b[0;34m\u001b[0m\u001b[0m\n\u001b[0;32m---> 61\u001b[0;31m     \u001b[0mcheck_input_language\u001b[0m\u001b[0;34m(\u001b[0m\u001b[0mlanguage_code\u001b[0m\u001b[0;34m)\u001b[0m\u001b[0;34m\u001b[0m\u001b[0;34m\u001b[0m\u001b[0m\n\u001b[0m\u001b[1;32m     62\u001b[0m     \u001b[0mtok\u001b[0m \u001b[0;34m=\u001b[0m \u001b[0mLanguageTokenizer\u001b[0m\u001b[0;34m(\u001b[0m\u001b[0mlanguage_code\u001b[0m\u001b[0;34m)\u001b[0m\u001b[0;34m\u001b[0m\u001b[0;34m\u001b[0m\u001b[0m\n\u001b[1;32m     63\u001b[0m     \u001b[0moutput\u001b[0m \u001b[0;34m=\u001b[0m \u001b[0mtok\u001b[0m\u001b[0;34m.\u001b[0m\u001b[0mtokenizer\u001b[0m\u001b[0;34m(\u001b[0m\u001b[0minput\u001b[0m\u001b[0;34m)\u001b[0m\u001b[0;34m\u001b[0m\u001b[0;34m\u001b[0m\u001b[0m\n",
            "\u001b[0;32m/usr/local/lib/python3.7/dist-packages/inltk/inltk.py\u001b[0m in \u001b[0;36mcheck_input_language\u001b[0;34m(language_code)\u001b[0m\n\u001b[1;32m     39\u001b[0m         \u001b[0;32mraise\u001b[0m \u001b[0mException\u001b[0m\u001b[0;34m(\u001b[0m\u001b[0;34mf'Language code should be one of {all_language_codes} and not {language_code}'\u001b[0m\u001b[0;34m)\u001b[0m\u001b[0;34m\u001b[0m\u001b[0;34m\u001b[0m\u001b[0m\n\u001b[1;32m     40\u001b[0m     \u001b[0;32mif\u001b[0m \u001b[0;32mnot\u001b[0m \u001b[0mverify_language\u001b[0m\u001b[0;34m(\u001b[0m\u001b[0mlanguage_code\u001b[0m\u001b[0;34m)\u001b[0m\u001b[0;34m:\u001b[0m\u001b[0;34m\u001b[0m\u001b[0;34m\u001b[0m\u001b[0m\n\u001b[0;32m---> 41\u001b[0;31m         raise Exception(f'You need to do setup for the **first time** for language of your choice so that '\n\u001b[0m\u001b[1;32m     42\u001b[0m                         \u001b[0;34mf'we can download models. So, '\u001b[0m\u001b[0;34m\u001b[0m\u001b[0;34m\u001b[0m\u001b[0m\n\u001b[1;32m     43\u001b[0m                         f'Please run setup({language_code}) first!')\n",
            "\u001b[0;31mException\u001b[0m: You need to do setup for the **first time** for language of your choice so that we can download models. So, Please run setup(mr) first!"
          ]
        }
      ]
    },
    {
      "cell_type": "code",
      "source": [
        "!pip install indicnlp\n",
        "from indicnlp.transliterate.unicode_transliterate import ItransTransliterator\n",
        "\n",
        "input_text='आज मौसम अच्छा है। इसलिए हम आज खेल सकते हैं!'\n",
        "\n",
        "# Transliterate Hindi to Roman\n",
        "print(ItransTransliterator.to_itrans(data, 'hi'))"
      ],
      "metadata": {
        "colab": {
          "base_uri": "https://localhost:8080/",
          "height": 460
        },
        "id": "uCQ387kE2g7o",
        "outputId": "9b08a3cc-3b75-4f11-c827-fbe0ebab7069"
      },
      "execution_count": 45,
      "outputs": [
        {
          "output_type": "stream",
          "name": "stdout",
          "text": [
            "Looking in indexes: https://pypi.org/simple, https://us-python.pkg.dev/colab-wheels/public/simple/\n",
            "Collecting indicnlp\n",
            "  Downloading indicnlp-0.0.1-py3-none-any.whl (13 kB)\n",
            "Installing collected packages: indicnlp\n",
            "Successfully installed indicnlp-0.0.1\n"
          ]
        },
        {
          "output_type": "error",
          "ename": "ModuleNotFoundError",
          "evalue": "ignored",
          "traceback": [
            "\u001b[0;31m---------------------------------------------------------------------------\u001b[0m",
            "\u001b[0;31mModuleNotFoundError\u001b[0m                       Traceback (most recent call last)",
            "\u001b[0;32m<ipython-input-45-12b1bf1256cd>\u001b[0m in \u001b[0;36m<module>\u001b[0;34m()\u001b[0m\n\u001b[1;32m      1\u001b[0m \u001b[0mget_ipython\u001b[0m\u001b[0;34m(\u001b[0m\u001b[0;34m)\u001b[0m\u001b[0;34m.\u001b[0m\u001b[0msystem\u001b[0m\u001b[0;34m(\u001b[0m\u001b[0;34m'pip install indicnlp'\u001b[0m\u001b[0;34m)\u001b[0m\u001b[0;34m\u001b[0m\u001b[0;34m\u001b[0m\u001b[0m\n\u001b[0;32m----> 2\u001b[0;31m \u001b[0;32mfrom\u001b[0m \u001b[0mindicnlp\u001b[0m\u001b[0;34m.\u001b[0m\u001b[0mtransliterate\u001b[0m\u001b[0;34m.\u001b[0m\u001b[0municode_transliterate\u001b[0m \u001b[0;32mimport\u001b[0m \u001b[0mItransTransliterator\u001b[0m\u001b[0;34m\u001b[0m\u001b[0;34m\u001b[0m\u001b[0m\n\u001b[0m\u001b[1;32m      3\u001b[0m \u001b[0;34m\u001b[0m\u001b[0m\n\u001b[1;32m      4\u001b[0m \u001b[0minput_text\u001b[0m\u001b[0;34m=\u001b[0m\u001b[0;34m'आज मौसम अच्छा है। इसलिए हम आज खेल सकते हैं!'\u001b[0m\u001b[0;34m\u001b[0m\u001b[0;34m\u001b[0m\u001b[0m\n\u001b[1;32m      5\u001b[0m \u001b[0;34m\u001b[0m\u001b[0m\n",
            "\u001b[0;31mModuleNotFoundError\u001b[0m: No module named 'indicnlp.transliterate'",
            "",
            "\u001b[0;31m---------------------------------------------------------------------------\u001b[0;32m\nNOTE: If your import is failing due to a missing package, you can\nmanually install dependencies using either !pip or !apt.\n\nTo view examples of installing some common dependencies, click the\n\"Open Examples\" button below.\n\u001b[0;31m---------------------------------------------------------------------------\u001b[0m\n"
          ],
          "errorDetails": {
            "actions": [
              {
                "action": "open_url",
                "actionText": "Open Examples",
                "url": "/notebooks/snippets/importing_libraries.ipynb"
              }
            ]
          }
        }
      ]
    }
  ]
}